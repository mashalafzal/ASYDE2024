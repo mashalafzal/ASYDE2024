{
 "cells": [
  {
   "cell_type": "code",
   "execution_count": 1,
   "metadata": {},
   "outputs": [],
   "source": [
    "import torch\n",
    "import pandas as pd\n",
    "import numpy as np\n",
    "import nltk\n",
    "from nltk.stem import PorterStemmer\n",
    "from nltk.stem import WordNetLemmatizer\n",
    "from nltk.corpus import wordnet as wn\n",
    "import spacy\n",
    "from nltk.sentiment import SentimentIntensityAnalyzer\n",
    "from nltk.sentiment.vader import SentimentIntensityAnalyzer\n",
    "from nltk.corpus import stopwords\n",
    "from nltk.tokenize import word_tokenize\n",
    "from transformers import pipeline"
   ]
  },
  {
   "cell_type": "code",
   "execution_count": 14,
   "metadata": {},
   "outputs": [],
   "source": [
    "# Load the CSV file to be processed\n",
    "df = pd.read_csv(\"path to your file\")"
   ]
  },
  {
   "cell_type": "code",
   "execution_count": 15,
   "metadata": {},
   "outputs": [
    {
     "name": "stdout",
     "output_type": "stream",
     "text": [
      "2415\n"
     ]
    }
   ],
   "source": [
    "# Remove all rows with 0 as label in the first column and save the sheet to process further\n",
    "df_filtered = df[df.iloc[:, 0] == 1]\n",
    "print(len(df_filtered))\n",
    "\n",
    "# Save the filtered sheet to a new CSV file\n",
    "df_filtered.to_csv(\"choose your path\", index=False)"
   ]
  },
  {
   "cell_type": "code",
   "execution_count": 27,
   "metadata": {},
   "outputs": [
    {
     "name": "stdout",
     "output_type": "stream",
     "text": [
      "df1 2415\n",
      "df2 995\n",
      "df3 956\n",
      "4366\n"
     ]
    }
   ],
   "source": [
    "#merge all csv files into one\n",
    "df1 = pd.read_csv(\"path to your train_filtered file\")\n",
    "df2 = pd.read_csv(\"path to your test_filtered file\")\n",
    "df3 = pd.read_csv(\"path to your test_hard_filtered file\")\n",
    "\n",
    "print(\"df1\",len(df1))\n",
    "print(\"df2\", len(df2))\n",
    "print(\"df3\", len(df3))\n",
    "\n",
    "df = pd.concat([df1, df2, df3], ignore_index=True)\n",
    "df.to_csv(\"choose your path\", index=False)\n",
    "\n",
    "#print length of the merged file\n",
    "df = pd.read_csv(\"path to your merged sheet.csv\")\n",
    "print(len(df))\n"
   ]
  },
  {
   "cell_type": "code",
   "execution_count": 28,
   "metadata": {},
   "outputs": [
    {
     "name": "stdout",
     "output_type": "stream",
     "text": [
      "Duplicates:       label                                           scenario\n",
      "4         1  John could face the monster blocking the cave....\n",
      "664       1  John would always talk about the awards he won...\n",
      "2732      1  Dad slapped his son`s cheeks when he broke his...\n"
     ]
    }
   ],
   "source": [
    "#remove the duplicates and print them\n",
    "duplicates = df[df.duplicated()]\n",
    "\n",
    "# Print the duplicates\n",
    "print(\"Duplicates:\", duplicates)"
   ]
  },
  {
   "cell_type": "code",
   "execution_count": 29,
   "metadata": {},
   "outputs": [
    {
     "name": "stdout",
     "output_type": "stream",
     "text": [
      "total record 4366\n",
      "total record after removing duplicates 4363\n"
     ]
    }
   ],
   "source": [
    "#remove the duplicates and print them\n",
    "\n",
    "print(\"total record\", len(df))\n",
    "df = df.drop_duplicates()\n",
    "df.to_csv(\"path to save your file with duplicates removed\", index=False)\n",
    "\n",
    "print(\"total record after removing duplicates\", len(df))\n"
   ]
  },
  {
   "cell_type": "code",
   "execution_count": 40,
   "metadata": {},
   "outputs": [
    {
     "name": "stdout",
     "output_type": "stream",
     "text": [
      "hellooo:  4363\n"
     ]
    }
   ],
   "source": [
    "df=pd.read_csv(\"path to your file with duplicates removed\")\n",
    "\n",
    "# Remove the first column of label 1 from the filtered sheet to separate the label from the text\n",
    "df_filtered = df.iloc[:, 1:]\n",
    "print(\"hellooo: \", len(df_filtered))\n",
    "df_final = df_filtered\n"
   ]
  },
  {
   "cell_type": "code",
   "execution_count": 71,
   "metadata": {},
   "outputs": [],
   "source": [
    "# Split the text on '[SEP]' and keep the label after it in a new column for ALL MERGED\n",
    "df_final['Extracted_Label'] = df_final.iloc[:, 0].str.split('\\[SEP\\]').str[1]\n",
    "\n",
    "\n",
    "#save only extracted labels in a new CSV file\n",
    "df_labels = df_final['Extracted_Label']"
   ]
  },
  {
   "cell_type": "code",
   "execution_count": 80,
   "metadata": {},
   "outputs": [
    {
     "name": "stdout",
     "output_type": "stream",
     "text": [
      "Total labels:  4363\n",
      "  Extracted_Label  Count\n",
      "0        generous     85\n",
      "1        friendly     84\n",
      "2         selfish     71\n",
      "3          caring     56\n",
      "4       forgiving     56\n"
     ]
    }
   ],
   "source": [
    "# count how many times each label is repeating\n",
    "label_counts = df_final['Extracted_Label'].value_counts()\n",
    "\n",
    "print(\"Total labels: \", len(df_final))\n",
    "\n",
    "# Create a new DataFrame with \"Extracted_Label\" and \"count\"\n",
    "label_counts_df = pd.DataFrame(label_counts).reset_index()\n",
    "label_counts_df.columns = ['Extracted_Label', 'count']\n",
    "\n",
    "# Save the labels and their counts to a new CSV file\n",
    "label_counts_df.to_csv(\"choose path to save your file\", index=False)\n",
    "\n",
    "# Print the head of the DataFrame to verify\n",
    "print(label_counts_df.head())"
   ]
  },
  {
   "cell_type": "code",
   "execution_count": 81,
   "metadata": {},
   "outputs": [],
   "source": [
    "#load the csv and turn all letter into lower case\n",
    "df = pd.read_csv(\"path to your file where labels are extracted\")\n",
    "\n",
    "#change all words into lowercase\n",
    "df['Extracted_Label'] = df['Extracted_Label'].str.lower()\n",
    "\n",
    "#remove the . in the end of words\n",
    "df['Extracted_Label'] = df['Extracted_Label'].str.replace(r'\\.', '', regex=True)"
   ]
  },
  {
   "cell_type": "code",
   "execution_count": 86,
   "metadata": {},
   "outputs": [
    {
     "name": "stdout",
     "output_type": "stream",
     "text": [
      "unique labels:  530\n",
      "total count:  4363\n"
     ]
    }
   ],
   "source": [
    "#sum the labels with same name\n",
    "df = df.groupby(df.columns[0], as_index=False).agg({df.columns[1]: 'sum'})\n",
    "\n",
    "#sort by count\n",
    "df = df.sort_values(by=[df.columns[1]], ascending=False)\n",
    "\n",
    "#save the cleaned file\n",
    "df.to_csv(\"path to save your file with final count of labels\", index=False)\n",
    "\n",
    "print(\"unique labels: \", len(df))\n",
    "\n",
    "#print total sum of counts\n",
    "print(\"total count: \", df[df.columns[1]].sum())"
   ]
  }
 ],
 "metadata": {
  "kernelspec": {
   "display_name": "base",
   "language": "python",
   "name": "python3"
  },
  "language_info": {
   "codemirror_mode": {
    "name": "ipython",
    "version": 3
   },
   "file_extension": ".py",
   "mimetype": "text/x-python",
   "name": "python",
   "nbconvert_exporter": "python",
   "pygments_lexer": "ipython3",
   "version": "3.9.16"
  }
 },
 "nbformat": 4,
 "nbformat_minor": 2
}
